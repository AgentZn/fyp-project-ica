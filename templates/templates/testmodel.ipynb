{
 "cells": [
  {
   "cell_type": "code",
   "execution_count": 38,
   "source": [
    "from tensorflow import keras\r\n",
    "model = keras.models.load_model('D:\\projects\\ica_trial\\static\\models\\pushup-flow-9346.h5')"
   ],
   "outputs": [],
   "metadata": {}
  },
  {
   "cell_type": "code",
   "execution_count": 39,
   "source": [
    "model.summary()"
   ],
   "outputs": [
    {
     "output_type": "stream",
     "name": "stdout",
     "text": [
      "Model: \"model\"\n",
      "_________________________________________________________________\n",
      "Layer (type)                 Output Shape              Param #   \n",
      "=================================================================\n",
      "input_1 (InputLayer)         [(None, 180, 320, 3)]     0         \n",
      "_________________________________________________________________\n",
      "conv2d (Conv2D)              (None, 90, 160, 32)       2432      \n",
      "_________________________________________________________________\n",
      "dropout (Dropout)            (None, 90, 160, 32)       0         \n",
      "_________________________________________________________________\n",
      "batch_normalization (BatchNo (None, 90, 160, 32)       128       \n",
      "_________________________________________________________________\n",
      "re_lu (ReLU)                 (None, 90, 160, 32)       0         \n",
      "_________________________________________________________________\n",
      "conv2d_1 (Conv2D)            (None, 45, 80, 64)        51264     \n",
      "_________________________________________________________________\n",
      "dropout_1 (Dropout)          (None, 45, 80, 64)        0         \n",
      "_________________________________________________________________\n",
      "batch_normalization_1 (Batch (None, 45, 80, 64)        256       \n",
      "_________________________________________________________________\n",
      "re_lu_1 (ReLU)               (None, 45, 80, 64)        0         \n",
      "_________________________________________________________________\n",
      "conv2d_2 (Conv2D)            (None, 23, 40, 128)       204928    \n",
      "_________________________________________________________________\n",
      "dropout_2 (Dropout)          (None, 23, 40, 128)       0         \n",
      "_________________________________________________________________\n",
      "batch_normalization_2 (Batch (None, 23, 40, 128)       512       \n",
      "_________________________________________________________________\n",
      "re_lu_2 (ReLU)               (None, 23, 40, 128)       0         \n",
      "_________________________________________________________________\n",
      "flatten (Flatten)            (None, 117760)            0         \n",
      "_________________________________________________________________\n",
      "dense (Dense)                (None, 3)                 353283    \n",
      "=================================================================\n",
      "Total params: 612,803\n",
      "Trainable params: 612,355\n",
      "Non-trainable params: 448\n",
      "_________________________________________________________________\n"
     ]
    }
   ],
   "metadata": {}
  },
  {
   "cell_type": "code",
   "execution_count": 19,
   "source": [
    "import numpy\r\n",
    "import json\r\n",
    "\r\n",
    "negativeEmbedding = numpy.load('D:/projects/ica_trial/static/models/pushup-pose/negative_embedding.npy')\r\n",
    "positiveEmbedding = numpy.load('D:/projects/ica_trial/static/models/pushup-pose/positive_embedding.npy')\r\n",
    "negativeJson = negativeEmbedding.tolist()\r\n",
    "positiveJson = positiveEmbedding.tolist()\r\n",
    "\r\n",
    "with open('negative_mbedding.json', 'w') as outfile:\r\n",
    "    json.dump(negativeJson, outfile, indent=3)\r\n",
    "\r\n",
    "with open('positive_mbedding.json', 'w') as outfile:\r\n",
    "    json.dump(positiveJson, outfile, indent=3)\r\n"
   ],
   "outputs": [],
   "metadata": {}
  }
 ],
 "metadata": {
  "orig_nbformat": 4,
  "language_info": {
   "name": "python",
   "version": "3.8.1",
   "mimetype": "text/x-python",
   "codemirror_mode": {
    "name": "ipython",
    "version": 3
   },
   "pygments_lexer": "ipython3",
   "nbconvert_exporter": "python",
   "file_extension": ".py"
  },
  "kernelspec": {
   "name": "python3",
   "display_name": "Python 3.8.1 64-bit ('py38': conda)"
  },
  "interpreter": {
   "hash": "c85909c066b39d857071483c78a937d00aa7546f1f52ba3c0924986ff839b8c7"
  }
 },
 "nbformat": 4,
 "nbformat_minor": 2
}